{
 "cells": [
  {
   "cell_type": "code",
   "execution_count": null,
   "metadata": {},
   "outputs": [],
   "source": [
    "import numpy as np\n",
    "import matplotlib.pyplot as plt\n",
    ""
   ]
  },
  {
   "cell_type": "code",
   "execution_count": null,
   "metadata": {},
   "outputs": [],
   "source": [
    "#\n",
    "# --- aufgabenblatt 1 ---\n",
    "#\n",
    "def tiling(arr, x, y):\n",
    "    temp = np.concatenate(tuple([arr])*x, axis=0)\n",
    "    return np.concatenate(tuple([temp])*y, axis=1)\n",
    ""
   ]
  },
  {
   "cell_type": "code",
   "execution_count": null,
   "metadata": {},
   "outputs": [],
   "source": [
    "arr = plt.imread(\"test.png\")\n",
    ""
   ]
  },
  {
   "cell_type": "code",
   "execution_count": null,
   "metadata": {},
   "outputs": [],
   "source": [
    "plt.imshow(arr)\n",
    ""
   ]
  },
  {
   "cell_type": "code",
   "execution_count": null,
   "metadata": {},
   "outputs": [],
   "source": [
    "arr2 = tiling(arr, 3, 4)\n",
    "plt.imshow(arr2)\n",
    ""
   ]
  },
  {
   "cell_type": "code",
   "execution_count": null,
   "metadata": {},
   "outputs": [],
   "source": [
    "def crop(arr, x1, x2, y1, y2):\n",
    "    return arr[x1:x2, y1:y2, :]\n",
    "\n",
    "arr3 = crop(arr2, 50, -200, 100, -400)\n",
    "plt.imshow(arr3)\n",
    ""
   ]
  },
  {
   "cell_type": "code",
   "execution_count": null,
   "metadata": {},
   "outputs": [],
   "source": [
    "#\n",
    "# --- blatt 1 ---\n",
    "#\n",
    "pic = plt.imread(\"test.png\")\n",
    ""
   ]
  },
  {
   "cell_type": "code",
   "execution_count": null,
   "metadata": {},
   "outputs": [],
   "source": [
    "plt.imshow(pic)\n",
    "plt.show()\n",
    "weights=[0.2989,0.5870,0.1140]\n",
    "#weights=[1, 1, 0]\n",
    "#weights=[1, 0, 0]\n",
    "#weights=[0, 1, 0]\n",
    "grayscaleimage=np.dot(pic[:, :, :3],weights)\n",
    "plt.imshow(grayscaleimage,cmap=plt.get_cmap(\"gray\"))\n",
    ""
   ]
  },
  {
   "cell_type": "code",
   "execution_count": null,
   "metadata": {},
   "outputs": [],
   "source": [
    ""
   ]
  }
 ],
 "nbformat": 4,
 "nbformat_minor": 2,
 "metadata": {
  "language_info": {
   "codemirror_mode": {
    "name": "ipython",
    "version": 3
   },
   "file_extension": ".py",
   "mimetype": "text/x-python",
   "name": "python",
   "nbconvert_exporter": "python",
   "pygments_lexer": "ipython3",
   "version": 3
  },
  "orig_nbformat": 4
 }
}